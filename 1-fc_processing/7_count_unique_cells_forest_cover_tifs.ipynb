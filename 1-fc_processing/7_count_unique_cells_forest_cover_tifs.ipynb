{
 "cells": [
  {
   "cell_type": "code",
   "execution_count": 1,
   "id": "second-longer",
   "metadata": {},
   "outputs": [],
   "source": [
    "import gdal\n",
    "import numpy as np\n",
    "import rasterio"
   ]
  },
  {
   "cell_type": "code",
   "execution_count": 2,
   "id": "personalized-hebrew",
   "metadata": {},
   "outputs": [],
   "source": [
    "file = './fc_europe_null_up.tif'\n",
    "\n",
    "# Open the image and read in the values as an array\n",
    "#dataset = gdal.Open(file)\n"
   ]
  },
  {
   "cell_type": "code",
   "execution_count": 6,
   "id": "sublime-promotion",
   "metadata": {},
   "outputs": [],
   "source": [
    "band = dataset.GetRasterBand(1)\n",
    "Cols = dataset.RasterXSize\n",
    "Rows = dataset.RasterYSize"
   ]
  },
  {
   "cell_type": "code",
   "execution_count": 8,
   "id": "straight-chain",
   "metadata": {},
   "outputs": [
    {
     "data": {
      "text/plain": [
       "<osgeo.gdal.Band; proxy of <Swig Object of type 'GDALRasterBandShadow *' at 0x00000280C1E4D8D0> >"
      ]
     },
     "execution_count": 8,
     "metadata": {},
     "output_type": "execute_result"
    }
   ],
   "source": [
    "band\n"
   ]
  },
  {
   "cell_type": "code",
   "execution_count": 3,
   "id": "funded-cornwall",
   "metadata": {},
   "outputs": [],
   "source": [
    "img = rasterio.open(file, 'r+')"
   ]
  },
  {
   "cell_type": "code",
   "execution_count": 11,
   "id": "responsible-status",
   "metadata": {},
   "outputs": [
    {
     "name": "stdout",
     "output_type": "stream",
     "text": [
      "(132250, 128206)\n"
     ]
    }
   ],
   "source": [
    "print(img.shape)"
   ]
  },
  {
   "cell_type": "code",
   "execution_count": null,
   "id": "satellite-production",
   "metadata": {},
   "outputs": [],
   "source": [
    "# subset the array to only contain classification values equal to 1\n",
    "class1 = data[data==1]\n",
    "\n",
    "# print the length of class1 (the number of pixels \n",
    "with a classification value of 1)\n",
    "print(len(class1))"
   ]
  },
  {
   "cell_type": "code",
   "execution_count": 2,
   "id": "smoking-yorkshire",
   "metadata": {},
   "outputs": [],
   "source": [
    "from collections import Counter\n",
    "from osgeo import gdal_array"
   ]
  },
  {
   "cell_type": "code",
   "execution_count": 3,
   "id": "contemporary-empty",
   "metadata": {},
   "outputs": [],
   "source": [
    "rasterArray = gdal_array.LoadFile('./et_gpp_sum_base.tif') # this one worked"
   ]
  },
  {
   "cell_type": "code",
   "execution_count": 4,
   "id": "joint-bridges",
   "metadata": {},
   "outputs": [
    {
     "name": "stdout",
     "output_type": "stream",
     "text": [
      "(8542, 9205)\n"
     ]
    }
   ],
   "source": [
    "print(rasterArray.shape)"
   ]
  },
  {
   "cell_type": "code",
   "execution_count": 5,
   "id": "small-connectivity",
   "metadata": {},
   "outputs": [
    {
     "name": "stdout",
     "output_type": "stream",
     "text": [
      "The Array is:  [nan nan nan ... nan nan nan]\n"
     ]
    }
   ],
   "source": [
    "print(\"The Array is: \", rasterArray[0])"
   ]
  },
  {
   "cell_type": "code",
   "execution_count": 7,
   "id": "derived-stationery",
   "metadata": {},
   "outputs": [],
   "source": [
    "occurrences = np.count_nonzero(rasterArray)"
   ]
  },
  {
   "cell_type": "code",
   "execution_count": 6,
   "id": "searching-humidity",
   "metadata": {},
   "outputs": [],
   "source": [
    "occurrences=np.count_nonzero(~np.isnan(rasterArray))"
   ]
  },
  {
   "cell_type": "code",
   "execution_count": 7,
   "id": "adverse-liabilities",
   "metadata": {},
   "outputs": [
    {
     "name": "stdout",
     "output_type": "stream",
     "text": [
      "21331850\n"
     ]
    }
   ],
   "source": [
    "print(occurrences)"
   ]
  },
  {
   "cell_type": "code",
   "execution_count": null,
   "id": "determined-flexibility",
   "metadata": {},
   "outputs": [],
   "source": [
    "# The 3rd band\n",
    "#band3 = rasterArray[2]\n",
    "rasterArray[rasterArray!=1]\n",
    "# Flatten the 2D array to 1D and count occurrences of each values\n",
    "# Then simple to get the stat for a pixel value in particular\n",
    "#print(Counter(band3.flatten()))\n",
    "print(len(nn))"
   ]
  },
  {
   "cell_type": "code",
   "execution_count": 9,
   "id": "compact-armstrong",
   "metadata": {},
   "outputs": [
    {
     "data": {
      "text/plain": [
       "55436493"
      ]
     },
     "execution_count": 9,
     "metadata": {},
     "output_type": "execute_result"
    }
   ],
   "source": [
    "7301*7593"
   ]
  },
  {
   "cell_type": "code",
   "execution_count": 1,
   "id": "prime-style",
   "metadata": {},
   "outputs": [
    {
     "data": {
      "text/plain": [
       "1919866.5"
      ]
     },
     "execution_count": 1,
     "metadata": {},
     "output_type": "execute_result"
    }
   ],
   "source": [
    "21331850*0.09"
   ]
  },
  {
   "cell_type": "code",
   "execution_count": null,
   "id": "vietnamese-manor",
   "metadata": {},
   "outputs": [],
   "source": []
  }
 ],
 "metadata": {
  "kernelspec": {
   "display_name": "Python 3",
   "language": "python",
   "name": "python3"
  },
  "language_info": {
   "codemirror_mode": {
    "name": "ipython",
    "version": 3
   },
   "file_extension": ".py",
   "mimetype": "text/x-python",
   "name": "python",
   "nbconvert_exporter": "python",
   "pygments_lexer": "ipython3",
   "version": "3.7.9"
  }
 },
 "nbformat": 4,
 "nbformat_minor": 5
}
